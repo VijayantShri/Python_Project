{
 "cells": [
  {
   "cell_type": "markdown",
   "metadata": {},
   "source": [
    "# $$Auto Password Generator$$"
   ]
  },
  {
   "cell_type": "markdown",
   "metadata": {},
   "source": [
    "### A valid password is having"
   ]
  },
  {
   "cell_type": "markdown",
   "metadata": {},
   "source": [
    "#### i) Atleast one upper case letter.\n",
    "#### ii) Atleast one lower case letter.\n",
    "#### iii) Atleast one numeric value.\n",
    "#### iv) Atleast one special character."
   ]
  },
  {
   "cell_type": "markdown",
   "metadata": {},
   "source": [
    "## 1. Import all the packages"
   ]
  },
  {
   "cell_type": "code",
   "execution_count": 1,
   "metadata": {},
   "outputs": [],
   "source": [
    "import random\n",
    "import pandas as pd\n",
    "import numpy as np\n",
    "import string as st"
   ]
  },
  {
   "cell_type": "markdown",
   "metadata": {},
   "source": [
    "## 2. Create all lists."
   ]
  },
  {
   "cell_type": "code",
   "execution_count": 2,
   "metadata": {},
   "outputs": [],
   "source": [
    "numbers = list(map(str, range(10)))\n",
    "lowercase_letter = list(chr(i + ord('a')) for i in range(26))\n",
    "uppercase_letter = list(chr(i + ord('A')) for i in range(26))\n",
    "special_char = [chr(i) for i in range(40,127) if not chr(i).isalnum()]"
   ]
  },
  {
   "cell_type": "code",
   "execution_count": 3,
   "metadata": {},
   "outputs": [],
   "source": [
    "fixed_password = numbers + lowercase_letter + uppercase_letter + special_char"
   ]
  },
  {
   "cell_type": "code",
   "execution_count": 4,
   "metadata": {},
   "outputs": [
    {
     "name": "stdout",
     "output_type": "stream",
     "text": [
      "['0', '1', '2', '3', '4', '5', '6', '7', '8', '9', 'a', 'b', 'c', 'd', 'e', 'f', 'g', 'h', 'i', 'j', 'k', 'l', 'm', 'n', 'o', 'p', 'q', 'r', 's', 't', 'u', 'v', 'w', 'x', 'y', 'z', 'A', 'B', 'C', 'D', 'E', 'F', 'G', 'H', 'I', 'J', 'K', 'L', 'M', 'N', 'O', 'P', 'Q', 'R', 'S', 'T', 'U', 'V', 'W', 'X', 'Y', 'Z', '(', ')', '*', '+', ',', '-', '.', '/', ':', ';', '<', '=', '>', '?', '@', '[', '\\\\', ']', '^', '_', '`', '{', '|', '}', '~']\n"
     ]
    }
   ],
   "source": [
    "print(fixed_password)"
   ]
  },
  {
   "cell_type": "markdown",
   "metadata": {},
   "source": [
    "## 3. Create Password"
   ]
  },
  {
   "cell_type": "code",
   "execution_count": 5,
   "metadata": {},
   "outputs": [
    {
     "name": "stdout",
     "output_type": "stream",
     "text": [
      "5\n"
     ]
    }
   ],
   "source": [
    "# This producing random value from all four lists.\n",
    "def ran():\n",
    "    random_pass = random.choice(numbers) + random.choice(lowercase_letter) + random.choice(uppercase_letter) +random.choice(special_char)\n",
    "    return random_pass\n",
    "\n",
    "max_length = list(range(4, 9))\n",
    "emp_password = []\n",
    "num_emp = int(input())\n",
    "for k in range(num_emp):\n",
    "    value1 = ran()\n",
    "    value2 = ''.join(random.choice(fixed_password) for j in range(random.choice(max_length)))\n",
    "    emp_password.append(value1+value2)"
   ]
  },
  {
   "cell_type": "code",
   "execution_count": 6,
   "metadata": {},
   "outputs": [
    {
     "data": {
      "text/plain": [
       "['7vX;lz:|?', '3nH`edjTekY4', '1eR<BZVu', '3yH)5@/GZTu', '5cE+[K)_9>`']"
      ]
     },
     "execution_count": 6,
     "metadata": {},
     "output_type": "execute_result"
    }
   ],
   "source": [
    "emp_password"
   ]
  },
  {
   "cell_type": "code",
   "execution_count": 7,
   "metadata": {},
   "outputs": [],
   "source": [
    "password = {'password':emp_password}"
   ]
  },
  {
   "cell_type": "markdown",
   "metadata": {},
   "source": [
    "### 3.1 Create password dataframe"
   ]
  },
  {
   "cell_type": "code",
   "execution_count": 8,
   "metadata": {},
   "outputs": [],
   "source": [
    "df_password = pd.DataFrame(password)"
   ]
  },
  {
   "cell_type": "code",
   "execution_count": 9,
   "metadata": {},
   "outputs": [
    {
     "data": {
      "text/html": [
       "<div>\n",
       "<style scoped>\n",
       "    .dataframe tbody tr th:only-of-type {\n",
       "        vertical-align: middle;\n",
       "    }\n",
       "\n",
       "    .dataframe tbody tr th {\n",
       "        vertical-align: top;\n",
       "    }\n",
       "\n",
       "    .dataframe thead th {\n",
       "        text-align: right;\n",
       "    }\n",
       "</style>\n",
       "<table border=\"1\" class=\"dataframe\">\n",
       "  <thead>\n",
       "    <tr style=\"text-align: right;\">\n",
       "      <th></th>\n",
       "      <th>password</th>\n",
       "    </tr>\n",
       "  </thead>\n",
       "  <tbody>\n",
       "    <tr>\n",
       "      <th>0</th>\n",
       "      <td>7vX;lz:|?</td>\n",
       "    </tr>\n",
       "    <tr>\n",
       "      <th>1</th>\n",
       "      <td>3nH`edjTekY4</td>\n",
       "    </tr>\n",
       "    <tr>\n",
       "      <th>2</th>\n",
       "      <td>1eR&lt;BZVu</td>\n",
       "    </tr>\n",
       "    <tr>\n",
       "      <th>3</th>\n",
       "      <td>3yH)5@/GZTu</td>\n",
       "    </tr>\n",
       "    <tr>\n",
       "      <th>4</th>\n",
       "      <td>5cE+[K)_9&gt;`</td>\n",
       "    </tr>\n",
       "  </tbody>\n",
       "</table>\n",
       "</div>"
      ],
      "text/plain": [
       "       password\n",
       "0     7vX;lz:|?\n",
       "1  3nH`edjTekY4\n",
       "2      1eR<BZVu\n",
       "3   3yH)5@/GZTu\n",
       "4   5cE+[K)_9>`"
      ]
     },
     "execution_count": 9,
     "metadata": {},
     "output_type": "execute_result"
    }
   ],
   "source": [
    "df_password"
   ]
  },
  {
   "cell_type": "markdown",
   "metadata": {},
   "source": [
    "## 4. Creating Employee Dataframe"
   ]
  },
  {
   "cell_type": "code",
   "execution_count": 10,
   "metadata": {},
   "outputs": [],
   "source": [
    "df_employee = pd.DataFrame(columns=['Name', 'Age', 'Gender', 'Experience', 'Salary'])"
   ]
  },
  {
   "cell_type": "markdown",
   "metadata": {},
   "source": [
    "### 4.1 Inserting data into employee dataframe."
   ]
  },
  {
   "cell_type": "code",
   "execution_count": 11,
   "metadata": {},
   "outputs": [
    {
     "name": "stdout",
     "output_type": "stream",
     "text": [
      "Name: Vijayant Shrivastav\n",
      "Age: 22\n",
      "Gender: Male\n",
      "Experience: 0\n",
      "Salary: 3000000\n",
      "Name: Amber Goutam\n",
      "Age: 21\n",
      "Gender: Male\n",
      "Experience: 0\n",
      "Salary: 450000\n",
      "Name: Mayank Verma\n",
      "Age: 24\n",
      "Gender: Male\n",
      "Experience: 2\n",
      "Salary: 800000\n",
      "Name: Rishi Gupta\n",
      "Age: 22\n",
      "Gender: Male\n",
      "Experience: 1\n",
      "Salary: 650000\n",
      "Name: Amit Kumar\n",
      "Age: 22\n",
      "Gender: Male\n",
      "Experience: 1\n",
      "Salary: 800000\n"
     ]
    }
   ],
   "source": [
    "for i in range(num_emp):\n",
    "    df_employee.loc[i, 'Name'] = input('Name: ')\n",
    "    df_employee.loc[i, 'Age'] = input('Age: ')\n",
    "    df_employee.loc[i, 'Gender'] = input('Gender: ')\n",
    "    df_employee.loc[i, 'Experience'] = input('Experience: ')\n",
    "    df_employee.loc[i, 'Salary'] = input('Salary: ')"
   ]
  },
  {
   "cell_type": "code",
   "execution_count": 12,
   "metadata": {},
   "outputs": [
    {
     "data": {
      "text/html": [
       "<div>\n",
       "<style scoped>\n",
       "    .dataframe tbody tr th:only-of-type {\n",
       "        vertical-align: middle;\n",
       "    }\n",
       "\n",
       "    .dataframe tbody tr th {\n",
       "        vertical-align: top;\n",
       "    }\n",
       "\n",
       "    .dataframe thead th {\n",
       "        text-align: right;\n",
       "    }\n",
       "</style>\n",
       "<table border=\"1\" class=\"dataframe\">\n",
       "  <thead>\n",
       "    <tr style=\"text-align: right;\">\n",
       "      <th></th>\n",
       "      <th>Name</th>\n",
       "      <th>Age</th>\n",
       "      <th>Gender</th>\n",
       "      <th>Experience</th>\n",
       "      <th>Salary</th>\n",
       "    </tr>\n",
       "  </thead>\n",
       "  <tbody>\n",
       "    <tr>\n",
       "      <th>0</th>\n",
       "      <td>Vijayant Shrivastav</td>\n",
       "      <td>22</td>\n",
       "      <td>Male</td>\n",
       "      <td>0</td>\n",
       "      <td>3000000</td>\n",
       "    </tr>\n",
       "    <tr>\n",
       "      <th>1</th>\n",
       "      <td>Amber Goutam</td>\n",
       "      <td>21</td>\n",
       "      <td>Male</td>\n",
       "      <td>0</td>\n",
       "      <td>450000</td>\n",
       "    </tr>\n",
       "    <tr>\n",
       "      <th>2</th>\n",
       "      <td>Mayank Verma</td>\n",
       "      <td>24</td>\n",
       "      <td>Male</td>\n",
       "      <td>2</td>\n",
       "      <td>800000</td>\n",
       "    </tr>\n",
       "    <tr>\n",
       "      <th>3</th>\n",
       "      <td>Rishi Gupta</td>\n",
       "      <td>22</td>\n",
       "      <td>Male</td>\n",
       "      <td>1</td>\n",
       "      <td>650000</td>\n",
       "    </tr>\n",
       "    <tr>\n",
       "      <th>4</th>\n",
       "      <td>Amit Kumar</td>\n",
       "      <td>22</td>\n",
       "      <td>Male</td>\n",
       "      <td>1</td>\n",
       "      <td>800000</td>\n",
       "    </tr>\n",
       "  </tbody>\n",
       "</table>\n",
       "</div>"
      ],
      "text/plain": [
       "                  Name Age Gender Experience   Salary\n",
       "0  Vijayant Shrivastav  22   Male          0  3000000\n",
       "1         Amber Goutam  21   Male          0   450000\n",
       "2         Mayank Verma  24   Male          2   800000\n",
       "3          Rishi Gupta  22   Male          1   650000\n",
       "4           Amit Kumar  22   Male          1   800000"
      ]
     },
     "execution_count": 12,
     "metadata": {},
     "output_type": "execute_result"
    }
   ],
   "source": [
    "df_employee"
   ]
  },
  {
   "cell_type": "markdown",
   "metadata": {},
   "source": [
    "## 5. Setting passwords of the employees."
   ]
  },
  {
   "cell_type": "code",
   "execution_count": 13,
   "metadata": {},
   "outputs": [],
   "source": [
    "complete_df = pd.concat([df_employee, df_password], axis=1)"
   ]
  },
  {
   "cell_type": "code",
   "execution_count": 14,
   "metadata": {},
   "outputs": [
    {
     "data": {
      "text/html": [
       "<div>\n",
       "<style scoped>\n",
       "    .dataframe tbody tr th:only-of-type {\n",
       "        vertical-align: middle;\n",
       "    }\n",
       "\n",
       "    .dataframe tbody tr th {\n",
       "        vertical-align: top;\n",
       "    }\n",
       "\n",
       "    .dataframe thead th {\n",
       "        text-align: right;\n",
       "    }\n",
       "</style>\n",
       "<table border=\"1\" class=\"dataframe\">\n",
       "  <thead>\n",
       "    <tr style=\"text-align: right;\">\n",
       "      <th></th>\n",
       "      <th>Name</th>\n",
       "      <th>Age</th>\n",
       "      <th>Gender</th>\n",
       "      <th>Experience</th>\n",
       "      <th>Salary</th>\n",
       "      <th>password</th>\n",
       "    </tr>\n",
       "  </thead>\n",
       "  <tbody>\n",
       "    <tr>\n",
       "      <th>0</th>\n",
       "      <td>Vijayant Shrivastav</td>\n",
       "      <td>22</td>\n",
       "      <td>Male</td>\n",
       "      <td>0</td>\n",
       "      <td>3000000</td>\n",
       "      <td>7vX;lz:|?</td>\n",
       "    </tr>\n",
       "    <tr>\n",
       "      <th>1</th>\n",
       "      <td>Amber Goutam</td>\n",
       "      <td>21</td>\n",
       "      <td>Male</td>\n",
       "      <td>0</td>\n",
       "      <td>450000</td>\n",
       "      <td>3nH`edjTekY4</td>\n",
       "    </tr>\n",
       "    <tr>\n",
       "      <th>2</th>\n",
       "      <td>Mayank Verma</td>\n",
       "      <td>24</td>\n",
       "      <td>Male</td>\n",
       "      <td>2</td>\n",
       "      <td>800000</td>\n",
       "      <td>1eR&lt;BZVu</td>\n",
       "    </tr>\n",
       "    <tr>\n",
       "      <th>3</th>\n",
       "      <td>Rishi Gupta</td>\n",
       "      <td>22</td>\n",
       "      <td>Male</td>\n",
       "      <td>1</td>\n",
       "      <td>650000</td>\n",
       "      <td>3yH)5@/GZTu</td>\n",
       "    </tr>\n",
       "    <tr>\n",
       "      <th>4</th>\n",
       "      <td>Amit Kumar</td>\n",
       "      <td>22</td>\n",
       "      <td>Male</td>\n",
       "      <td>1</td>\n",
       "      <td>800000</td>\n",
       "      <td>5cE+[K)_9&gt;`</td>\n",
       "    </tr>\n",
       "  </tbody>\n",
       "</table>\n",
       "</div>"
      ],
      "text/plain": [
       "                  Name Age Gender Experience   Salary      password\n",
       "0  Vijayant Shrivastav  22   Male          0  3000000     7vX;lz:|?\n",
       "1         Amber Goutam  21   Male          0   450000  3nH`edjTekY4\n",
       "2         Mayank Verma  24   Male          2   800000      1eR<BZVu\n",
       "3          Rishi Gupta  22   Male          1   650000   3yH)5@/GZTu\n",
       "4           Amit Kumar  22   Male          1   800000   5cE+[K)_9>`"
      ]
     },
     "execution_count": 14,
     "metadata": {},
     "output_type": "execute_result"
    }
   ],
   "source": [
    "complete_df"
   ]
  },
  {
   "cell_type": "markdown",
   "metadata": {},
   "source": [
    "## 6. Exporting data to csv file."
   ]
  },
  {
   "cell_type": "code",
   "execution_count": 15,
   "metadata": {},
   "outputs": [],
   "source": [
    "complete_df.to_csv('Employee_data.csv')"
   ]
  },
  {
   "cell_type": "markdown",
   "metadata": {},
   "source": [
    "## 7. Checking the data in csv file."
   ]
  },
  {
   "cell_type": "code",
   "execution_count": 16,
   "metadata": {},
   "outputs": [
    {
     "data": {
      "text/html": [
       "<div>\n",
       "<style scoped>\n",
       "    .dataframe tbody tr th:only-of-type {\n",
       "        vertical-align: middle;\n",
       "    }\n",
       "\n",
       "    .dataframe tbody tr th {\n",
       "        vertical-align: top;\n",
       "    }\n",
       "\n",
       "    .dataframe thead th {\n",
       "        text-align: right;\n",
       "    }\n",
       "</style>\n",
       "<table border=\"1\" class=\"dataframe\">\n",
       "  <thead>\n",
       "    <tr style=\"text-align: right;\">\n",
       "      <th></th>\n",
       "      <th>Unnamed: 0</th>\n",
       "      <th>Name</th>\n",
       "      <th>Age</th>\n",
       "      <th>Gender</th>\n",
       "      <th>Experience</th>\n",
       "      <th>Salary</th>\n",
       "      <th>password</th>\n",
       "    </tr>\n",
       "  </thead>\n",
       "  <tbody>\n",
       "    <tr>\n",
       "      <th>0</th>\n",
       "      <td>0</td>\n",
       "      <td>Vijayant Shrivastav</td>\n",
       "      <td>22</td>\n",
       "      <td>Male</td>\n",
       "      <td>0</td>\n",
       "      <td>3000000</td>\n",
       "      <td>7vX;lz:|?</td>\n",
       "    </tr>\n",
       "    <tr>\n",
       "      <th>1</th>\n",
       "      <td>1</td>\n",
       "      <td>Amber Goutam</td>\n",
       "      <td>21</td>\n",
       "      <td>Male</td>\n",
       "      <td>0</td>\n",
       "      <td>450000</td>\n",
       "      <td>3nH`edjTekY4</td>\n",
       "    </tr>\n",
       "    <tr>\n",
       "      <th>2</th>\n",
       "      <td>2</td>\n",
       "      <td>Mayank Verma</td>\n",
       "      <td>24</td>\n",
       "      <td>Male</td>\n",
       "      <td>2</td>\n",
       "      <td>800000</td>\n",
       "      <td>1eR&lt;BZVu</td>\n",
       "    </tr>\n",
       "    <tr>\n",
       "      <th>3</th>\n",
       "      <td>3</td>\n",
       "      <td>Rishi Gupta</td>\n",
       "      <td>22</td>\n",
       "      <td>Male</td>\n",
       "      <td>1</td>\n",
       "      <td>650000</td>\n",
       "      <td>3yH)5@/GZTu</td>\n",
       "    </tr>\n",
       "    <tr>\n",
       "      <th>4</th>\n",
       "      <td>4</td>\n",
       "      <td>Amit Kumar</td>\n",
       "      <td>22</td>\n",
       "      <td>Male</td>\n",
       "      <td>1</td>\n",
       "      <td>800000</td>\n",
       "      <td>5cE+[K)_9&gt;`</td>\n",
       "    </tr>\n",
       "  </tbody>\n",
       "</table>\n",
       "</div>"
      ],
      "text/plain": [
       "   Unnamed: 0                 Name  Age Gender  Experience   Salary  \\\n",
       "0           0  Vijayant Shrivastav   22   Male           0  3000000   \n",
       "1           1         Amber Goutam   21   Male           0   450000   \n",
       "2           2         Mayank Verma   24   Male           2   800000   \n",
       "3           3          Rishi Gupta   22   Male           1   650000   \n",
       "4           4           Amit Kumar   22   Male           1   800000   \n",
       "\n",
       "       password  \n",
       "0     7vX;lz:|?  \n",
       "1  3nH`edjTekY4  \n",
       "2      1eR<BZVu  \n",
       "3   3yH)5@/GZTu  \n",
       "4   5cE+[K)_9>`  "
      ]
     },
     "execution_count": 16,
     "metadata": {},
     "output_type": "execute_result"
    }
   ],
   "source": [
    "read_df = pd.read_csv('Employee_data.csv')\n",
    "read_df"
   ]
  },
  {
   "cell_type": "code",
   "execution_count": null,
   "metadata": {},
   "outputs": [],
   "source": []
  }
 ],
 "metadata": {
  "kernelspec": {
   "display_name": "Python 3",
   "language": "python",
   "name": "python3"
  },
  "language_info": {
   "codemirror_mode": {
    "name": "ipython",
    "version": 3
   },
   "file_extension": ".py",
   "mimetype": "text/x-python",
   "name": "python",
   "nbconvert_exporter": "python",
   "pygments_lexer": "ipython3",
   "version": "3.7.7"
  }
 },
 "nbformat": 4,
 "nbformat_minor": 4
}
